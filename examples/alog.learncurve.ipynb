{
 "cells": [
  {
   "cell_type": "code",
   "execution_count": 1,
   "id": "8be52938-ee5f-4f0c-87f9-0bdc9d74a1cb",
   "metadata": {},
   "outputs": [
    {
     "data": {
      "image/png": "[encoded data removed]",
      "text/plain": [
       "<Figure size 720x432 with 1 Axes>"
      ]
     },
     "metadata": {
      "needs_background": "light"
     },
     "output_type": "display_data"
    }
   ],
   "source": [
    "#!/usr/bin/env python\n",
    "# -*- coding: utf-8 -*-\n",
    "\n",
    "import os\n",
    "import numpy as np\n",
    "\n",
    "import matplotlib              as mpl\n",
    "import matplotlib.pyplot       as plt\n",
    "import matplotlib.colors       as mcolors\n",
    "import matplotlib.patches      as mpatches\n",
    "import matplotlib.transforms   as mtransforms\n",
    "import matplotlib.font_manager as font_manager\n",
    "%matplotlib inline\n",
    "\n",
    "class LearnCurve:\n",
    "\n",
    "    def __init__(self, loss_train, loss_validation, title, figsize, **kwargs):\n",
    "        self.loss_train = loss_train\n",
    "        self.loss_validation = loss_validation\n",
    "        self.title   = title\n",
    "        self.figsize = figsize\n",
    "        for k, v in kwargs.items(): setattr(self, k, v)\n",
    "\n",
    "        # self.config_fonts()\n",
    "\n",
    "        return None\n",
    "\n",
    "\n",
    "    def config_fonts(self):\n",
    "        # Where to load external font...\n",
    "        drc_py    = os.getcwd()\n",
    "        drc_font  = os.path.join(\"fonts\", \"Helvetica\")\n",
    "        fl_ttf    = f\"Helvetica.ttf\"\n",
    "        path_font = os.path.join(drc_py, drc_font, fl_ttf)\n",
    "        prop_font = font_manager.FontProperties( fname = path_font )\n",
    "\n",
    "        # Add Font and configure font properties\n",
    "        font_manager.fontManager.addfont(path_font)\n",
    "        prop_font = font_manager.FontProperties(fname = path_font)\n",
    "        self.prop_font = prop_font\n",
    "\n",
    "        # Specify fonts for pyplot...\n",
    "        plt.rcParams['font.family'] = prop_font.get_name()\n",
    "        plt.rcParams['font.size']   = 18\n",
    "\n",
    "        return None\n",
    "\n",
    "\n",
    "    def create_panels(self):\n",
    "        nrows, ncols = 1, 1\n",
    "        fig = plt.figure(figsize = self.figsize)\n",
    "\n",
    "        gspec   = fig.add_gridspec(nrows, ncols)\n",
    "        ax_img1 = fig.add_subplot(gspec[0,0])\n",
    "        return fig, ax_img1\n",
    "\n",
    "\n",
    "    def plot_img1(self):\n",
    "        loss_train      = self.loss_train\n",
    "        loss_validation = self.loss_validation\n",
    "\n",
    "        x = [ loss[0] for loss in loss_train ]\n",
    "        y = [ loss[1] for loss in loss_train ]\n",
    "        self.ax_img1.plot(x, y, label = \"Training loss\")\n",
    "\n",
    "        x = [ loss[0] for loss in loss_validation ]\n",
    "        y = [ loss[1] for loss in loss_validation ]\n",
    "        self.ax_img1.plot(x, y, label = \"Validation loss\")\n",
    "        \n",
    "        min_loss = float('inf')\n",
    "        x = []\n",
    "        y = []\n",
    "        for i, loss in loss_validation:\n",
    "            if loss < min_loss:\n",
    "                min_loss = loss\n",
    "            x.append(i)\n",
    "            y.append(min_loss)\n",
    "        self.ax_img1.plot(x, y, label = \"Validation loss (running min)\")\n",
    "        \n",
    "        self.ax_img1.set_ylim(bottom = 0.0)\n",
    "        self.ax_img1.set_xlabel('Epoch')\n",
    "        self.ax_img1.set_ylabel('Loss')\n",
    "        self.ax_img1.legend(\n",
    "            edgecolor = \"none\",\n",
    "            ncol      = 1,\n",
    "            loc       = \"best\",\n",
    "        )\n",
    "        \n",
    "        # !!!!!!!!!!!!!!!!!!!!!!!!!!!!!!!!!!\n",
    "        # self.ax_img1.set_xlim([0, 180])\n",
    "        self.ax_img1.set_ylim([0, 1e-4])\n",
    "        self.ax_img1.axhline(y=1, color='r')\n",
    "        # self.ax_img1.axvline(x=175, color='r')\n",
    "\n",
    "\n",
    "    def show(self, filename = None): \n",
    "        self.fig, self.ax_img1 = self.create_panels()\n",
    "\n",
    "        self.plot_img1()\n",
    "\n",
    "        if not isinstance(filename, str): \n",
    "            plt.show()\n",
    "        else:\n",
    "            # Set up drc...\n",
    "            DRCPDF         = \"pdfs\"\n",
    "            drc_cwd        = os.getcwd()\n",
    "            prefixpath_pdf = os.path.join(drc_cwd, DRCPDF)\n",
    "            if not os.path.exists(prefixpath_pdf): os.makedirs(prefixpath_pdf)\n",
    "\n",
    "            # Specify file...\n",
    "            fl_pdf = f\"{filename}.pdf\"\n",
    "            path_pdf = os.path.join(prefixpath_pdf, fl_pdf)\n",
    "\n",
    "            # Export...\n",
    "            plt.savefig(path_pdf, dpi = 100)\n",
    "\n",
    "\n",
    "\n",
    "\n",
    "def get_loss(lines, istrain = True):\n",
    "    mode = \"trainer\" if istrain else \"validator\"\n",
    "\n",
    "    # Keep lines that have validation loss for each epoch...\n",
    "    idx = {}\n",
    "    losses = []\n",
    "    for line in lines:\n",
    "        line = line.strip()\n",
    "\n",
    "        substrs_to_match = [ mode, \"loss mean\" ]\n",
    "\n",
    "        if all( substr_to_match in line for substr_to_match in substrs_to_match ):\n",
    "            # Backcompatible with old format...\n",
    "            line = line.replace(\":0\", \"\")\n",
    "\n",
    "            k1 = \"epoch\"\n",
    "            idx[k1] = line.find(k1) + len(k1)\n",
    "\n",
    "            k2 = \",\"\n",
    "            idx[k2] = line.find(k2)\n",
    "\n",
    "            # Obtain epoch...\n",
    "            epoch = line[idx[k1] : idx[k2]]\n",
    "            epoch = int(epoch)\n",
    "\n",
    "            k3 = \"loss mean\"\n",
    "            idx[k3] = line.find(k3) + len(k3)\n",
    "\n",
    "            # Obtain loss...\n",
    "            loss = line[idx[k3] : ]\n",
    "            loss = float(loss)\n",
    "            losses.append((epoch, loss))\n",
    "\n",
    "    return losses\n",
    "\n",
    "\n",
    "\n",
    "\n",
    "timestamp = \"2023_0320_1643_22\"\n",
    "timestamp = \"2023_0320_2208_59\"\n",
    "timestamp = \"2023_0320_2245_44\"\n",
    "timestamp = \"2023_0321_1052_03\"\n",
    "\n",
    "\n",
    "drc_log  = 'logs'\n",
    "fl_log   = f\"{timestamp}.train.log\"\n",
    "path_log = os.path.join(drc_log, fl_log)\n",
    "with open(path_log,'r') as fh:\n",
    "    lines = fh.readlines()\n",
    "\n",
    "loss_train      = get_loss(lines, istrain = True)\n",
    "loss_validation = get_loss(lines, istrain = False)\n",
    "\n",
    "loss_train      = np.array( loss_train )\n",
    "loss_validation = np.array( loss_validation )\n",
    "\n",
    "winsize = 1\n",
    "loss_train      = np.nanmean(loss_train.reshape(-1,winsize,2), axis = 1)\n",
    "loss_validation = np.nanmean(loss_validation.reshape(-1,winsize,2), axis = 1)\n",
    "\n",
    "\n",
    "fl_pdf = f\"{timestamp}.learncurve\"\n",
    "learn_curve = LearnCurve(loss_train, loss_validation, title = \"Learning Curve\", figsize = (10,6))\n",
    "learn_curve.show()\n",
    "## learn_curve.show(filename = fl_pdf)"
   ]
  },
  {
   "cell_type": "code",
   "execution_count": 5,
   "id": "250c36a6-c2b8-421a-902f-8a4e2150da5f",
   "metadata": {},
   "outputs": [],
   "source": [
    "loss_train      = get_loss(lines, istrain = True)\n",
    "loss_validation = get_loss(lines, istrain = False)\n",
    "\n",
    "loss_train      = np.array( loss_train )\n",
    "loss_validation = np.array( loss_validation )"
   ]
  },
  {
   "cell_type": "code",
   "execution_count": null,
   "id": "c5ef9c4d-2dbf-465e-b01a-be48f5694179",
   "metadata": {},
   "outputs": [],
   "source": [
    "loss_train, loss_validation"
   ]
  },
  {
   "cell_type": "code",
   "execution_count": 67,
   "id": "ec9b3fe5-204e-48df-8f13-c25db7be2cf1",
   "metadata": {},
   "outputs": [
    {
     "data": {
      "text/plain": [
       "(0.00014642, 0.0002131)"
      ]
     },
     "execution_count": 67,
     "metadata": {},
     "output_type": "execute_result"
    }
   ],
   "source": [
    "min(loss_train[:, 1]), min(loss_validation[:, 1])"
   ]
  },
  {
   "cell_type": "code",
   "execution_count": 6,
   "id": "4c9c9b28-c487-44d2-bb05-4119b16280f1",
   "metadata": {},
   "outputs": [
    {
     "data": {
      "text/plain": [
       "(0.0009127, 0.00141691)"
      ]
     },
     "execution_count": 6,
     "metadata": {},
     "output_type": "execute_result"
    }
   ],
   "source": [
    "min(loss_train[:, 1]), min(loss_validation[:, 1])"
   ]
  },
  {
   "cell_type": "code",
   "execution_count": null,
   "id": "d242c95c-529d-4137-9d13-4436a9347970",
   "metadata": {},
   "outputs": [],
   "source": []
  }
 ],
 "metadata": {
  "kernelspec": {
   "display_name": "ana-ml-py3",
   "language": "python",
   "name": "ana-py3"
  },
  "language_info": {
   "codemirror_mode": {
    "name": "ipython",
    "version": 3
   },
   "file_extension": ".py",
   "mimetype": "text/x-python",
   "name": "python",
   "nbconvert_exporter": "python",
   "pygments_lexer": "ipython3",
   "version": "3.7.9"
  }
 },
 "nbformat": 4,
 "nbformat_minor": 5
}
