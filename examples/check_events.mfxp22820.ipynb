{
 "cells": [
  {
   "cell_type": "code",
   "execution_count": 1,
   "id": "17b5b916-f082-4098-81d6-165c29695e87",
   "metadata": {},
   "outputs": [
    {
     "name": "stdout",
     "output_type": "stream",
     "text": [
      "(bookmark:PROJ_ROOT) -> /reg/data/ana03/scratch/cwang31/pf\n",
      "/reg/data/ana03/scratch/cwang31/pf\n"
     ]
    }
   ],
   "source": [
    "# Run the notebook as if it's in the PROJECT directory\n",
    "%bookmark PROJ_ROOT /reg/data/ana03/scratch/cwang31/pf\n",
    "%cd -b PROJ_ROOT"
   ]
  },
  {
   "cell_type": "code",
   "execution_count": 2,
   "id": "a7af3aa4-f1a6-459e-9e57-537bd3ab7cb0",
   "metadata": {},
   "outputs": [
    {
     "name": "stdout",
     "output_type": "stream",
     "text": [
      "env: SIT_ROOT=/reg/g/psdm/\n",
      "env: SIT_DATA=/cds/group/psdm/data/\n",
      "env: SIT_PSDM_DATA=/cds/data/psdm/\n"
     ]
    }
   ],
   "source": [
    "# Load paths for using psana\n",
    "%env SIT_ROOT=/reg/g/psdm/\n",
    "%env SIT_DATA=/cds/group/psdm/data/\n",
    "%env SIT_PSDM_DATA=/cds/data/psdm/"
   ]
  },
  {
   "cell_type": "code",
   "execution_count": 3,
   "id": "4fd85cc2-199e-4c67-896b-742ea8f6c664",
   "metadata": {},
   "outputs": [],
   "source": [
    "import pickle\n",
    "import os\n",
    "import sys\n",
    "import torch\n",
    "from peaknet.datasets.fastdata  import ConfigDataset, SFXPanelDatasetMini\n",
    "\n",
    "# Set up parameters for an experiment...\n",
    "basename             =  \"mfxp22820\"\n",
    "fl_csv               = f\"{basename}.csv\"\n",
    "drc_project          = os.getcwd()\n",
    "size_sample_train    = 200\n",
    "size_sample_validate = 200\n",
    "frac_train           = 1.0\n",
    "frac_validate        = None\n",
    "dataset_usage        = 'train'\n",
    "\n",
    "seed = 0\n",
    "\n",
    "# [[[ DATASET ]]]\n",
    "# Config the dataset...\n",
    "config_dataset = ConfigDataset( fl_csv        = fl_csv,\n",
    "                                drc_project   = drc_project,\n",
    "                                size_sample   = size_sample_train,\n",
    "                                dataset_usage = dataset_usage,\n",
    "                                trans         = None,\n",
    "                                frac_train    = frac_train,\n",
    "                                frac_validate = frac_validate,\n",
    "                                mpi_comm      = None,\n",
    "                                seed          = seed,\n",
    "                                mask_radius   = 3,\n",
    "                                is_batch_mask = True,\n",
    "                                snr_threshold = 1.0, )\n",
    "\n",
    "# Define the training set\n",
    "dataset_train = SFXPanelDatasetMini(config_dataset)"
   ]
  },
  {
   "cell_type": "code",
   "execution_count": 6,
   "id": "b9bcd554-0c2f-4b84-adfa-eb7cce50193e",
   "metadata": {},
   "outputs": [
    {
     "data": {
      "text/plain": [
       "200"
      ]
     },
     "execution_count": 6,
     "metadata": {},
     "output_type": "execute_result"
    }
   ],
   "source": [
    "len(dataset_train.metadata_list)"
   ]
  },
  {
   "cell_type": "code",
   "execution_count": null,
   "id": "0004a147-d174-42c9-8206-54135c630397",
   "metadata": {},
   "outputs": [],
   "source": [
    "path_cxi = './mfxp22820/cwang31/psocake/r0013/mfxp22820_0013_4.cxi'\n",
    "with "
   ]
  }
 ],
 "metadata": {
  "kernelspec": {
   "display_name": "peaknet",
   "language": "python",
   "name": "peaknet"
  },
  "language_info": {
   "codemirror_mode": {
    "name": "ipython",
    "version": 3
   },
   "file_extension": ".py",
   "mimetype": "text/x-python",
   "name": "python",
   "nbconvert_exporter": "python",
   "pygments_lexer": "ipython3",
   "version": "3.7.12"
  }
 },
 "nbformat": 4,
 "nbformat_minor": 5
}
