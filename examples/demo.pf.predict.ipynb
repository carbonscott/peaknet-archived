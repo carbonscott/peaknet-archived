{
 "cells": [
  {
   "cell_type": "code",
   "execution_count": 1,
   "id": "185723b5-a7a9-43e1-a4f9-f4c7b2131b7f",
   "metadata": {},
   "outputs": [
    {
     "name": "stdout",
     "output_type": "stream",
     "text": [
      "/reg/data/ana03/scratch/cwang31/pf\n"
     ]
    }
   ],
   "source": [
    "!pwd"
   ]
  },
  {
   "cell_type": "code",
   "execution_count": 2,
   "id": "338b4849-3627-4b89-b1b0-874843c63f26",
   "metadata": {},
   "outputs": [
    {
     "name": "stdout",
     "output_type": "stream",
     "text": [
      "env: SIT_ROOT=/reg/g/psdm/\n",
      "env: SIT_DATA=/cds/group/psdm/data/\n",
      "env: SIT_PSDM_DATA=/cds/data/psdm/\n"
     ]
    }
   ],
   "source": [
    "# Load paths for using psana\n",
    "%env SIT_ROOT=/reg/g/psdm/\n",
    "%env SIT_DATA=/cds/group/psdm/data/\n",
    "%env SIT_PSDM_DATA=/cds/data/psdm/"
   ]
  },
  {
   "cell_type": "code",
   "execution_count": 3,
   "id": "28ce2581-cbbc-493e-9626-17217f85aa23",
   "metadata": {},
   "outputs": [],
   "source": [
    "import os\n",
    "import random\n",
    "import numpy as np\n",
    "import h5py\n",
    "import time\n",
    "\n",
    "import torch\n",
    "import torch.nn.functional as F\n",
    "\n",
    "from peaknet.methods.att_unet   import AttentionUNet\n",
    "from peaknet.model              import ConfigPeakFinderModel, PeakFinderModel\n",
    "from peaknet.datasets.utils     import PsanaImg\n",
    "from peaknet.datasets.transform import center_crop\n",
    "\n",
    "from cupyx.scipy import ndimage\n",
    "import cupy as cp\n",
    "\n",
    "seed = 0"
   ]
  },
  {
   "cell_type": "code",
   "execution_count": 4,
   "id": "ac96383a-31b7-4e1b-ad24-295688442681",
   "metadata": {},
   "outputs": [],
   "source": [
    "import matplotlib.pyplot as plt\n",
    "import matplotlib.colors       as mcolors\n",
    "import matplotlib.patches      as mpatches\n",
    "import matplotlib.transforms   as mtransforms\n",
    "%matplotlib inline"
   ]
  },
  {
   "cell_type": "markdown",
   "id": "51b94a84-d502-4476-bccf-74d94606573b",
   "metadata": {},
   "source": [
    "## Load psana for accessing image data"
   ]
  },
  {
   "cell_type": "code",
   "execution_count": 5,
   "id": "6ed4d5ed-f75f-431a-9ebb-560a61b3c872",
   "metadata": {},
   "outputs": [],
   "source": [
    "# Sample Rayonix dataset\n",
    "exp           = 'mfx13016'\n",
    "# run           = 28\n",
    "run           = 37\n",
    "run           = 38\n",
    "img_load_mode = 'calib'\n",
    "access_mode   = 'idx'\n",
    "detector_name = 'Rayonix'\n",
    "# photon_energy = 9.54e3    # eV\n",
    "# encoder_value = -196\n",
    "\n",
    "psana_img = PsanaImg(exp, run, access_mode, detector_name)"
   ]
  },
  {
   "cell_type": "markdown",
   "id": "90bfdcee-3562-4341-ac8d-475bdd6b08f2",
   "metadata": {},
   "source": [
    "## Load Model"
   ]
  },
  {
   "cell_type": "code",
   "execution_count": null,
   "id": "f5ce1222-2474-4bea-979d-504f854d5ba7",
   "metadata": {},
   "outputs": [],
   "source": [
    "timestamp = \"2023_0406_1122_55\"    # 1000 examples\n",
    "epoch = 581\n",
    "fl_chkpt = None if timestamp is None else f\"{timestamp}.epoch_{epoch}.chkpt\"\n",
    "\n",
    "uses_skip_connection = True"
   ]
  },
  {
   "cell_type": "code",
   "execution_count": null,
   "id": "fdfa56d0-5651-4f11-b8a2-eaf6585a0b80",
   "metadata": {},
   "outputs": [],
   "source": [
    "base_channels = 8\n",
    "focal_alpha   = 1.2\n",
    "focal_gamma   = 2.0\n",
    "method = AttentionUNet( base_channels        = base_channels,\n",
    "                        in_channels          = 1,\n",
    "                        out_channels         = 3,\n",
    "                        uses_skip_connection = uses_skip_connection,\n",
    "                        att_gate_channels    = None, )\n",
    "config_peakfinder = ConfigPeakFinderModel( method = method,  \n",
    "                                           focal_alpha = focal_alpha,\n",
    "                                           focal_gamma = focal_gamma, )\n",
    "model = PeakFinderModel(config_peakfinder)\n",
    "model.init_params()    # ..., load random weights "
   ]
  },
  {
   "cell_type": "code",
   "execution_count": null,
   "id": "a5c9d39f-4348-43e4-bfcb-df0f9091434f",
   "metadata": {},
   "outputs": [],
   "source": [
    "# model.init_params(from_timestamp = timestamp)   # Run this will load a trained model\n",
    "model.init_params(fl_chkpt = fl_chkpt)   # Run this will load a trained model"
   ]
  },
  {
   "cell_type": "code",
   "execution_count": null,
   "id": "58bba487-565b-41f3-956e-09d8f682c600",
   "metadata": {},
   "outputs": [],
   "source": [
    "# Load model to gpus if available...\n",
    "device = torch.cuda.current_device() if torch.cuda.is_available() else 'cpu'\n",
    "model  = torch.nn.DataParallel(model.method).to(device)"
   ]
  },
  {
   "cell_type": "markdown",
   "id": "f07d377b-a8d2-4daa-be7b-1e6e8cf430f6",
   "metadata": {
    "tags": []
   },
   "source": [
    "### Example of finding peaks in one image (access by event)"
   ]
  },
  {
   "cell_type": "code",
   "execution_count": null,
   "id": "dae8f7af-626b-4a6d-b310-e469c4e7e1c2",
   "metadata": {},
   "outputs": [],
   "source": [
    "# Load images by event...\n",
    "# event = 3101\n",
    "event = 1907\n",
    "# event = 7619\n",
    "img   = psana_img.get(event, None, 'calib')\n",
    "\n",
    "# offset = 10\n",
    "# size_y, size_x = img.shape\n",
    "# xmin = 0 + offset\n",
    "# xmax = size_x - offset\n",
    "# ymin = 0 + offset\n",
    "# ymax = size_y - offset\n",
    "# mask_select = np.zeros_like(img)\n",
    "# mask_select[ymin:ymax, xmin:xmax] = 1.0\n",
    "# img *= mask_select\n",
    "# img = img[ymin:ymax, xmin:xmax]\n",
    "\n",
    "img = torch.tensor(img).type(dtype=torch.float)[None,None,].to(device)\n",
    "img = (img - img.mean()) / img.std()\n",
    "\n",
    "model.eval()\n",
    "time_start = time.monotonic()\n",
    "with torch.no_grad():\n",
    "    fmap = model.forward(img)\n",
    "mask_predicted = fmap.softmax(dim = 1)\n",
    "time_end = time.monotonic()\n",
    "print(f\"Elapsed: {(time_end - time_start) * 1e3} ms.\")\n",
    "\n",
    "label_predicted = mask_predicted[0][1]\n",
    "bg_predicted = mask_predicted[0][0]\n",
    "sc_predicted = mask_predicted[0][2]\n",
    "label_predicted = label_predicted.cpu().detach().numpy()\n",
    "bg_predicted = bg_predicted.cpu().detach().numpy()\n",
    "sc_predicted = sc_predicted.cpu().detach().numpy()"
   ]
  },
  {
   "cell_type": "code",
   "execution_count": null,
   "id": "17f86b69-e62f-4a59-9b3b-0fdefe45e573",
   "metadata": {},
   "outputs": [],
   "source": [
    "offset = 4\n",
    "b_offset = 2\n",
    "size_y, size_x = label_predicted.shape[-2:]\n",
    "y_bmin, x_bmin = 0, 0\n",
    "y_bmax, x_bmax = size_y, size_x\n",
    "\n",
    "scale = 1\n",
    "\n",
    "# [[[ Visual ]]]\n",
    "# Set up the visual\n",
    "ncols = 1\n",
    "nrows = 1\n",
    "fig   = plt.figure(figsize = (16*scale,14*scale))\n",
    "gspec = fig.add_gridspec( nrows, ncols,\n",
    "                          width_ratios  = [1],\n",
    "                          height_ratios = [1,], \n",
    "                        )\n",
    "ax_list = [ fig.add_subplot(gspec[0, 0], aspect = 1),  ]\n",
    "\n",
    "# Plot image\n",
    "data = label_predicted\n",
    "vmin = np.mean(data) - 0 * data.std()\n",
    "vmax = np.mean(data) + 6 * data.std()\n",
    "im = ax_list[0].imshow(data, vmin = 0, vmax = 1)\n",
    "im.set_clim(vmin, vmax)\n",
    "ax_list[0].set_xlim([x_bmin - b_offset, x_bmax + b_offset])\n",
    "ax_list[0].set_ylim([y_bmin - b_offset, y_bmax + b_offset])\n",
    "ax_list[0].invert_yaxis()\n",
    "data.min(), data.max(), data.dtype"
   ]
  },
  {
   "cell_type": "code",
   "execution_count": null,
   "id": "10f674b5-ca08-45d6-a0c9-ada55c94cf78",
   "metadata": {},
   "outputs": [],
   "source": [
    "scale = 1\n",
    "\n",
    "# [[[ Visual ]]]\n",
    "# Set up the visual\n",
    "ncols = 1\n",
    "nrows = 1\n",
    "fig   = plt.figure(figsize = (16*scale,14*scale))\n",
    "gspec = fig.add_gridspec( nrows, ncols,\n",
    "                          width_ratios  = [1],\n",
    "                          height_ratios = [1,], \n",
    "                        )\n",
    "ax_list = [ fig.add_subplot(gspec[0, 0], aspect = 1),  ]\n",
    "\n",
    "# Plot image\n",
    "data = sc_predicted\n",
    "vmin = np.mean(data) - 0 * data.std()\n",
    "vmax = np.mean(data) + 6 * data.std()\n",
    "im = ax_list[0].imshow(data, vmin = 0, vmax = 1)\n",
    "im.set_clim(vmin, vmax)\n",
    "ax_list[0].set_xlim([x_bmin - b_offset, x_bmax + b_offset])\n",
    "ax_list[0].set_ylim([y_bmin - b_offset, y_bmax + b_offset])\n",
    "ax_list[0].invert_yaxis()"
   ]
  },
  {
   "cell_type": "code",
   "execution_count": null,
   "id": "ef568111-808e-42a4-90fd-7ad134748f88",
   "metadata": {},
   "outputs": [],
   "source": [
    "scale = 1\n",
    "\n",
    "# [[[ Visual ]]]\n",
    "# Set up the visual\n",
    "ncols = 1\n",
    "nrows = 1\n",
    "fig   = plt.figure(figsize = (16*scale,14*scale))\n",
    "gspec = fig.add_gridspec( nrows, ncols,\n",
    "                          width_ratios  = [1],\n",
    "                          height_ratios = [1,], \n",
    "                        )\n",
    "ax_list = [ fig.add_subplot(gspec[0, 0], aspect = 1),  ]\n",
    "\n",
    "# Plot image\n",
    "data = bg_predicted\n",
    "vmin = np.mean(data) - 0 * data.std()\n",
    "vmax = np.mean(data) + 6 * data.std()\n",
    "im = ax_list[0].imshow(data, vmin = 0, vmax = 1, cmap = \"Greys_r\")\n",
    "# im.set_clim(vmin, vmax)\n",
    "ax_list[0].set_xlim([x_bmin - b_offset, x_bmax + b_offset])\n",
    "ax_list[0].set_ylim([y_bmin - b_offset, y_bmax + b_offset])\n",
    "ax_list[0].invert_yaxis()\n",
    "data.min(), data.max(), data.dtype"
   ]
  },
  {
   "cell_type": "code",
   "execution_count": null,
   "id": "b9e34115-5b3b-432c-8e2a-4810cbf1abd1",
   "metadata": {},
   "outputs": [],
   "source": []
  },
  {
   "cell_type": "code",
   "execution_count": null,
   "id": "8066987f-5b22-4d7f-ae58-2263119cd683",
   "metadata": {
    "tags": []
   },
   "outputs": [],
   "source": [
    "scale = 4\n",
    "\n",
    "# Load images by event...\n",
    "# event = 3101\n",
    "event = 1907\n",
    "# event = 7619\n",
    "img   = psana_img.get(event, None, 'calib')\n",
    "\n",
    "# offset = 10\n",
    "# size_y, size_x = img.shape\n",
    "# xmin = 0 + offset\n",
    "# xmax = size_x - offset\n",
    "# ymin = 0 + offset\n",
    "# ymax = size_y - offset\n",
    "# mask_select = np.zeros_like(img)\n",
    "# mask_select[ymin:ymax, xmin:xmax] = 1.0\n",
    "# img *= mask_select\n",
    "# img = img[ymin:ymax, xmin:xmax]\n",
    "\n",
    "# img = img[size_y//2 - 400:size_y//2 + 400, size_x//2 - 400:size_x//2 + 400]\n",
    "\n",
    "img = torch.tensor(img).type(dtype=torch.float)[None,None,].to(device)\n",
    "img = (img - img.mean()) / img.std()\n",
    "\n",
    "model.eval()\n",
    "time_start = time.monotonic()\n",
    "with torch.no_grad():\n",
    "    fmap = model.forward(img)\n",
    "mask_predicted = fmap.softmax(dim = 1)\n",
    "time_end = time.monotonic()\n",
    "print(f\"Elapsed: {(time_end - time_start) * 1e3} ms.\")\n",
    "\n",
    "B, C, H, W = mask_predicted.shape\n",
    "mask_predicted = mask_predicted.argmax(dim = 1, keepdims = True)\n",
    "mask_predicted = F.one_hot(mask_predicted.reshape(B, -1), num_classes = C).permute(0, 2, 1).reshape(B, -1, H, W)\n",
    "label_predicted = mask_predicted[0][1]\n",
    "\n",
    "label_predicted = label_predicted.to(torch.int)\n",
    "\n",
    "bg_predicted = mask_predicted[0][0]\n",
    "sc_predicted = mask_predicted[0][2]\n",
    "bg_predicted = bg_predicted.cpu().detach().numpy()\n",
    "sc_predicted = sc_predicted.cpu().detach().numpy()\n",
    "\n",
    "# Crop the original image...\n",
    "size_y, size_x = label_predicted.shape[-2:]\n",
    "img_crop, offset_tuple = center_crop(img, size_y, size_x, returns_offset_tuple = True)\n",
    "img_crop = img_crop[0, 0].cpu().detach().numpy()\n",
    "\n",
    "# Locate peaks with coordinates...\n",
    "structure = np.ones((3, 3), dtype=bool)\n",
    "peak_predicted, num_peak_predicted = ndimage.label(cp.asarray(label_predicted), structure)\n",
    "peak_pos_predicted_list = ndimage.center_of_mass(cp.asarray(label_predicted), peak_predicted, cp.asarray(range(1, num_peak_predicted+1)))\n",
    "\n",
    "label_predicted = label_predicted.cpu().detach().numpy()\n",
    "\n",
    "# [[[ Visual ]]]\n",
    "# Set up the visual\n",
    "ncols = 1\n",
    "nrows = 1\n",
    "fig   = plt.figure(figsize = (16*scale,14*scale))\n",
    "gspec = fig.add_gridspec( nrows, ncols,\n",
    "                          width_ratios  = [1],\n",
    "                          height_ratios = [1,], \n",
    "                        )\n",
    "ax_list = [ fig.add_subplot(gspec[0, 0], aspect = 1), ]\n",
    "\n",
    "# Plot image\n",
    "data = img_crop\n",
    "vmin = np.mean(data) - 1 * data.std()\n",
    "vmax = np.mean(data) + 6 * data.std()\n",
    "im = ax_list[0].imshow(data, vmin = vmin, vmax = vmax)\n",
    "im.set_clim(vmin, vmax)\n",
    "# plt.colorbar(im, cax = ax_list[1], orientation=\"vertical\", pad = 0.05)\n",
    "\n",
    "# Plot mask overlay\n",
    "data = label_predicted\n",
    "vmin = 0\n",
    "vmax = 1\n",
    "im2 = ax_list[0].imshow(data, vmin = vmin, vmax = vmax, alpha = 1.)\n",
    "im2.set_clim(vmin, vmax)\n",
    "cmap1 = mcolors.ListedColormap(['none', 'red'])\n",
    "im2.set_cmap(cmap1)\n",
    "\n",
    "# Place a box on a peak\n",
    "offset = 4\n",
    "b_offset = 2\n",
    "for y, x in peak_pos_predicted_list:\n",
    "    if np.isnan(y) or np.isnan(x): continue\n",
    "\n",
    "    x_bottom_left = x.get() - offset\n",
    "    y_bottom_left = y.get() - offset\n",
    "\n",
    "    rec_obj = mpatches.Rectangle((x_bottom_left, y_bottom_left),\n",
    "                                 2 * offset, 2 * offset, \n",
    "                                 linewidth = 1.0, \n",
    "                                 edgecolor = 'yellow', \n",
    "                                 facecolor='none')\n",
    "    ax_list[0].add_patch(rec_obj)\n",
    "\n",
    "y_bmin, x_bmin = 0, 0\n",
    "y_bmax, x_bmax = size_y, size_x\n",
    "ax_list[0].set_xlim([x_bmin - b_offset, x_bmax + b_offset])\n",
    "ax_list[0].set_ylim([y_bmin - b_offset, y_bmax + b_offset])\n",
    "# ax_list[0].invert_yaxis()"
   ]
  },
  {
   "cell_type": "markdown",
   "id": "f4515211-5ff7-43c4-b014-b73a1589a10f",
   "metadata": {},
   "source": [
    "`%%%%%%%%%%%%%%%%%%%%%%%%%%%%%%%%%%% DIVIDER %%%%%%%%%%%%%%%%%%%%%%%%%%%%%%%%%%%`\n",
    "<br/>\n",
    "<br/>\n",
    "<br/>\n",
    "<br/>"
   ]
  }
 ],
 "metadata": {
  "kernelspec": {
   "display_name": "peaknet",
   "language": "python",
   "name": "peaknet"
  },
  "language_info": {
   "codemirror_mode": {
    "name": "ipython",
    "version": 3
   },
   "file_extension": ".py",
   "mimetype": "text/x-python",
   "name": "python",
   "nbconvert_exporter": "python",
   "pygments_lexer": "ipython3",
   "version": "3.7.12"
  }
 },
 "nbformat": 4,
 "nbformat_minor": 5
}
