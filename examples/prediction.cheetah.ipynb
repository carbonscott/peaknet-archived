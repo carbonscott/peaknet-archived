{
 "cells": [
  {
   "cell_type": "code",
   "execution_count": 1,
   "id": "3f3646b5-d5e7-47a5-bbfc-62a228a6a0b2",
   "metadata": {},
   "outputs": [
    {
     "name": "stdout",
     "output_type": "stream",
     "text": [
      "env: SIT_ROOT=/reg/g/psdm/\n",
      "env: SIT_DATA=/cds/group/psdm/data/\n",
      "env: SIT_PSDM_DATA=/cds/data/psdm/\n"
     ]
    }
   ],
   "source": [
    "# Load paths for using psana\n",
    "%env SIT_ROOT=/reg/g/psdm/\n",
    "%env SIT_DATA=/cds/group/psdm/data/\n",
    "%env SIT_PSDM_DATA=/cds/data/psdm/"
   ]
  },
  {
   "cell_type": "code",
   "execution_count": 2,
   "id": "d629ac31-c363-4a3a-95e9-e7bcf570426e",
   "metadata": {},
   "outputs": [],
   "source": [
    "import os\n",
    "import torch\n",
    "import random\n",
    "import numpy as np\n",
    "import h5py\n",
    "import time\n",
    "\n",
    "from peaknet.predictor import CheetahPeakFinder\n",
    "from peaknet.datasets.utils import PsanaImg\n",
    "from peaknet.datasets.transform import center_crop, coord_crop_to_img\n",
    "from cupyx.scipy import ndimage\n",
    "import cupy as cp\n",
    "\n",
    "seed = 0"
   ]
  },
  {
   "cell_type": "code",
   "execution_count": 3,
   "id": "84ab9055-f2e5-416f-98ec-16b96aa44c54",
   "metadata": {},
   "outputs": [],
   "source": [
    "import matplotlib.pyplot as plt\n",
    "import matplotlib.colors       as mcolors\n",
    "import matplotlib.patches      as mpatches\n",
    "import matplotlib.transforms   as mtransforms\n",
    "%matplotlib inline"
   ]
  },
  {
   "cell_type": "markdown",
   "id": "2085f83f-0390-479a-81a4-65f4e7e52c3c",
   "metadata": {},
   "source": [
    "## Load psana"
   ]
  },
  {
   "cell_type": "code",
   "execution_count": 4,
   "id": "88c053eb-98a0-4e93-9dc5-a5c93357ea1e",
   "metadata": {},
   "outputs": [],
   "source": [
    "exp           = 'cxic0415'\n",
    "run           = 101\n",
    "img_load_mode = 'calib'\n",
    "access_mode   = 'idx'\n",
    "detector_name = 'CxiDs1.0:Cspad.0'\n",
    "photon_energy = 12688.890590380644    # eV\n",
    "encoder_value = -450.0034\n",
    "\n",
    "psana_img = PsanaImg(exp, run, access_mode, detector_name)"
   ]
  },
  {
   "cell_type": "markdown",
   "id": "0abf8e99-cc75-49f8-ae5e-c324df7b87e1",
   "metadata": {},
   "source": [
    "## Load Model"
   ]
  },
  {
   "cell_type": "code",
   "execution_count": 5,
   "id": "43eade1c-9f49-45ed-a493-c7680cf028e6",
   "metadata": {
    "tags": []
   },
   "outputs": [],
   "source": [
    "timestamp = \"2022_1101_2326_41\"    # Manual"
   ]
  },
  {
   "cell_type": "code",
   "execution_count": 6,
   "id": "f839bb2f-7d80-4282-95b0-b7a6040ed8a8",
   "metadata": {},
   "outputs": [],
   "source": [
    "from peaknet.methods.unet import UNet\n",
    "from peaknet.model        import ConfigPeakFinderModel, PeakFinderModel"
   ]
  },
  {
   "cell_type": "code",
   "execution_count": 7,
   "id": "f8f19a0c-7bdd-4a23-850b-2cbcca101850",
   "metadata": {},
   "outputs": [],
   "source": [
    "base_channels = 8\n",
    "pos_weight    = 1.0\n",
    "focal_alpha   = 0.8\n",
    "focal_gamma   = 2.0\n",
    "method = UNet( in_channels = 1, out_channels = 1, base_channels = base_channels )\n",
    "config_peakfinder = ConfigPeakFinderModel( method = method, \n",
    "                                           pos_weight = pos_weight, \n",
    "                                           focal_alpha = focal_alpha,\n",
    "                                           focal_gamma = focal_gamma)\n",
    "model = PeakFinderModel(config_peakfinder)\n",
    "model.init_params()"
   ]
  },
  {
   "cell_type": "code",
   "execution_count": 8,
   "id": "6ec0fa98-f418-4760-a22f-a2fc4c9f22cf",
   "metadata": {},
   "outputs": [],
   "source": [
    "model.init_params(from_timestamp = timestamp)   # Run this will load a trained model"
   ]
  },
  {
   "cell_type": "code",
   "execution_count": 9,
   "id": "c75a3d4a-a026-4521-8246-0c3816a64e33",
   "metadata": {},
   "outputs": [],
   "source": [
    "# Load model to gpus if available...\n",
    "device = torch.cuda.current_device() if torch.cuda.is_available() else 'cpu'\n",
    "model  = torch.nn.DataParallel(model.method).to(device)"
   ]
  },
  {
   "cell_type": "markdown",
   "id": "02e8564e-382e-4b39-80fc-0f9def130352",
   "metadata": {},
   "source": [
    "## Load cheetah geometry"
   ]
  },
  {
   "cell_type": "code",
   "execution_count": 10,
   "id": "f8c69db7-26e0-4deb-8df6-9cbdce47fc2c",
   "metadata": {},
   "outputs": [],
   "source": [
    "path_cheetah_geom = 'cheetah_geom.pickle'"
   ]
  },
  {
   "cell_type": "markdown",
   "id": "65064343-4dd2-4e85-815d-2cbf8a2f8a9b",
   "metadata": {},
   "source": [
    "## Enable Cheetah peak finder"
   ]
  },
  {
   "cell_type": "code",
   "execution_count": 11,
   "id": "8298420c-698f-496d-aef2-dc7871d14368",
   "metadata": {},
   "outputs": [],
   "source": [
    "pf = CheetahPeakFinder(model = model, path_cheetah_geom = path_cheetah_geom)"
   ]
  },
  {
   "cell_type": "markdown",
   "id": "9e2a263e-d9ed-428d-ae28-55fbcc0c4d1e",
   "metadata": {},
   "source": [
    "## Visual check"
   ]
  },
  {
   "cell_type": "code",
   "execution_count": 12,
   "id": "63e7ab25-7179-4456-865c-425b2ec3924b",
   "metadata": {},
   "outputs": [],
   "source": [
    "def load_img(event):\n",
    "    multipanel_mask       = psana_img.create_bad_pixel_mask()\n",
    "    multipanel_img        = psana_img.get(event, None, 'calib')\n",
    "    multipanel_img_masked = multipanel_mask * multipanel_img\n",
    "    \n",
    "    return multipanel_img_masked"
   ]
  },
  {
   "cell_type": "code",
   "execution_count": 13,
   "id": "378f1e05-b110-40f1-9c0e-803b64a72223",
   "metadata": {},
   "outputs": [],
   "source": [
    "event = 3068\n",
    "multipanel_img_masked = load_img(event)\n",
    "img_stack = torch.tensor(multipanel_img_masked).type(dtype=torch.float)[:,None].to(device)"
   ]
  },
  {
   "cell_type": "code",
   "execution_count": 14,
   "id": "0f2ae84e-6f17-40a0-aa37-fcac7fcd7e9b",
   "metadata": {},
   "outputs": [
    {
     "name": "stdout",
     "output_type": "stream",
     "text": [
      "Time delta: 0.39653468132019043 second.\n"
     ]
    }
   ],
   "source": [
    "import time\n",
    "\n",
    "time_start = time.time()\n",
    "peak_list = pf.find_peak(img_stack, threshold_prob = 1 - 1e-4)\n",
    "time_end = time.time()\n",
    "time_delta = time_end - time_start\n",
    "print(f\"Time delta: {time_delta} second.\")"
   ]
  },
  {
   "cell_type": "code",
   "execution_count": null,
   "id": "82b18827-6ec5-4145-a53b-862ae04c0281",
   "metadata": {},
   "outputs": [],
   "source": [
    "def convert_psana_to_cheetah(panel_list):\n",
    "    # [!!!] Hard code\n",
    "    dim0 = 8 * 185\n",
    "    dim1 = 4 * 388\n",
    "\n",
    "    # Convert calib image to cheetah image\n",
    "    img = np.zeros((dim0, dim1))\n",
    "    counter = 0\n",
    "    for quad in range(4):\n",
    "        for seg in range(8):\n",
    "            img[seg * 185:(seg + 1) * 185, quad * 388:(quad + 1) * 388] = panel_list[counter, :, :]\n",
    "            counter += 1\n",
    "\n",
    "    return img\n",
    "\n",
    "img_cheetah = convert_psana_to_cheetah(multipanel_img_masked)\n",
    "size_y, size_x = img_cheetah.shape[-2:]\n",
    "\n",
    "plt.figure(figsize = (60, 60))\n",
    "data = img_cheetah\n",
    "vmin = data.mean()\n",
    "vmax = vmin + data.std() * 6\n",
    "plt.imshow(img_cheetah, vmin = vmin, vmax = vmax)\n",
    "\n",
    "# Place a box on a peak\n",
    "offset = 3\n",
    "b_offset = 10\n",
    "for y, x in peak_list:\n",
    "    x_bottom_left = x - offset\n",
    "    y_bottom_left = y - offset\n",
    "\n",
    "    rec_obj = mpatches.Rectangle((x_bottom_left, y_bottom_left), \n",
    "                                 2 * offset, 2 * offset, \n",
    "                                 linewidth = 1.0, \n",
    "                                 edgecolor = 'yellow', \n",
    "                                 facecolor='none')\n",
    "    plt.gca().add_patch(rec_obj)\n",
    "\n",
    "    y_bmin, x_bmin = 0, 0\n",
    "    y_bmax, x_bmax = size_y, size_x\n",
    "    plt.gca().set_xlim([x_bmin - b_offset, x_bmax + b_offset])\n",
    "    plt.gca().set_ylim([y_bmin - b_offset, y_bmax + b_offset])"
   ]
  },
  {
   "cell_type": "markdown",
   "id": "5d7f3cb0-e9dd-4a5d-a1a4-e238d3fc26d5",
   "metadata": {
    "tags": []
   },
   "source": [
    "## Let's find it!!!"
   ]
  },
  {
   "cell_type": "code",
   "execution_count": null,
   "id": "9453af3c-0aaf-4b5f-85ba-496830707314",
   "metadata": {},
   "outputs": [],
   "source": [
    "min_num_peak = 20\n",
    "\n",
    "event_start = 0\n",
    "event_end   = 5000\n",
    "\n",
    "multipanel_mask = psana_img.create_bad_pixel_mask()\n",
    "\n",
    "event_filtered_list = []\n",
    "for event in range(event_start, event_end):\n",
    "    print(f\"Processing {event:06d}... \", end = '')\n",
    "\n",
    "    multipanel_img        = psana_img.get(event, None, 'calib')\n",
    "    multipanel_img_masked = multipanel_mask * multipanel_img\n",
    "    \n",
    "    img_stack = torch.tensor(multipanel_img_masked).type(dtype=torch.float)[:,None].to(device)\n",
    "    \n",
    "    time_start = time.time()\n",
    "    peak_list = pf.find_peak(img_stack, threshold_prob = 1 - 1e-4)\n",
    "    time_end = time.time()\n",
    "    time_delta = time_end - time_start\n",
    "    print(f\"Time delta: {time_delta:.6f} millisecond.\")\n",
    "    \n",
    "    if len(peak_list) < min_num_peak: continue\n",
    "    \n",
    "    event_filtered_list.append([event, peak_list])"
   ]
  },
  {
   "cell_type": "markdown",
   "id": "b8b1d883-f766-4808-9028-e6eb409f942f",
   "metadata": {},
   "source": [
    "## Let's save it."
   ]
  },
  {
   "cell_type": "code",
   "execution_count": 25,
   "id": "339cdcf9-31da-48da-b4d3-48559467abb8",
   "metadata": {},
   "outputs": [
    {
     "name": "stdout",
     "output_type": "stream",
     "text": [
      "(1749, 1480, 1552)\n"
     ]
    }
   ],
   "source": [
    "def convert_psana_to_cheetah(panel_list):\n",
    "    # [!!!] Hard code\n",
    "    dim0 = 8 * 185\n",
    "    dim1 = 4 * 388\n",
    "\n",
    "    # Convert calib image to cheetah image\n",
    "    img = np.zeros((dim0, dim1))\n",
    "    counter = 0\n",
    "    for quad in range(4):\n",
    "        for seg in range(8):\n",
    "            img[seg * 185:(seg + 1) * 185, quad * 388:(quad + 1) * 388] = panel_list[counter, :, :]\n",
    "            counter += 1\n",
    "\n",
    "    return img\n",
    "\n",
    "fl_cxi = 'peak.cxi'\n",
    "max_num_peak = 2048\n",
    "\n",
    "multipanel_mask = psana_img.create_bad_pixel_mask()\n",
    "\n",
    "num_event = len(event_filtered_list)\n",
    "with h5py.File(fl_cxi, 'w') as myHdf5:\n",
    "    # [!!!] Hard code\n",
    "    dim0 = 8 * 185\n",
    "    dim1 = 4 * 388\n",
    "\n",
    "    grpName     = \"/entry_1/result_1\"\n",
    "    dset_nPeaks = \"/nPeaks\"\n",
    "    dset_posX   = \"/peakXPosRaw\"\n",
    "    dset_posY   = \"/peakYPosRaw\"\n",
    "    dset_atot   = \"/peakTotalIntensity\"\n",
    "\n",
    "    grp = myHdf5.create_group(grpName)\n",
    "    myHdf5.create_dataset(grpName + dset_nPeaks, (num_event,             ), dtype='int')\n",
    "    myHdf5.create_dataset(grpName + dset_posX  , (num_event, max_num_peak), dtype='float32', chunks=(1, max_num_peak))\n",
    "    myHdf5.create_dataset(grpName + dset_posY  , (num_event, max_num_peak), dtype='float32', chunks=(1, max_num_peak))\n",
    "    myHdf5.create_dataset(grpName + dset_atot  , (num_event, max_num_peak), dtype='float32', chunks=(1, max_num_peak))\n",
    "\n",
    "    myHdf5.create_dataset(\"/LCLS/detector_1/EncoderValue\", (1,), dtype=float)\n",
    "    myHdf5.create_dataset(\"/LCLS/photon_energy_eV\", (1,), dtype=float)\n",
    "    dset = myHdf5.create_dataset(\"/entry_1/data_1/data\", (num_event, dim0, dim1), dtype=np.float32) # change to float32\n",
    "    ## dsetM = myHdf5.create_dataset(\"/entry_1/data_1/mask\", (dim0, dim1), dtype='int')\n",
    "\n",
    "    # # Save images...\n",
    "    # for seqi, (event, _) in enumerate(event_filtered_list):\n",
    "    #     multipanel_img_masked = load_img(event)\n",
    "    #     dset[seqi] = convert_psana_to_cheetah(multipanel_img_masked)\n",
    "\n",
    "    for seqi, (event, peak_per_event_list) in enumerate(event_filtered_list):\n",
    "        # Save this event???\n",
    "        nPeaks = len(peak_per_event_list)\n",
    "        if nPeaks > max_num_peak: continue\n",
    "        \n",
    "        # Save images...\n",
    "        multipanel_img        = psana_img.get(event, None, 'calib')\n",
    "        multipanel_img_masked = multipanel_mask * multipanel_img\n",
    "        dset[seqi] = convert_psana_to_cheetah(multipanel_img_masked)\n",
    "        \n",
    "        # Save peaks...\n",
    "        for i, peak in enumerate(peak_per_event_list):\n",
    "            cheetahRow, cheetahCol = peak\n",
    "            myHdf5[grpName + dset_posX][seqi, i] = cheetahCol\n",
    "            myHdf5[grpName + dset_posY][seqi, i] = cheetahRow\n",
    "        myHdf5[grpName + dset_nPeaks][seqi] = nPeaks\n",
    "\n",
    "    myHdf5[\"/LCLS/detector_1/EncoderValue\"][0] = encoder_value  # mm\n",
    "    myHdf5[\"/LCLS/photon_energy_eV\"][0] = photon_energy"
   ]
  },
  {
   "cell_type": "code",
   "execution_count": 26,
   "id": "2f1acc16-e933-47f8-aef9-ab7d8ae0a5fc",
   "metadata": {},
   "outputs": [],
   "source": [
    "fl_cxi = 'peak.cxi'\n",
    "max_num_peak = 2048\n",
    "drc = os.getcwd()\n",
    "path_cxi = os.path.join(drc, fl_cxi)\n",
    "basename = fl_cxi[:fl_cxi.rfind('.')]\n",
    "fl_lst = f'{basename}.lst'\n",
    "with open(fl_lst,'w') as fh:\n",
    "    for i, (event, peak_per_event_list) in enumerate(event_filtered_list):\n",
    "        # Index this event???\n",
    "        nPeaks = len(peak_per_event_list)\n",
    "        if nPeaks > max_num_peak: continue\n",
    "        \n",
    "        fh.write(f\"{path_cxi} //{i}\")\n",
    "        fh.write(\"\\n\")"
   ]
  },
  {
   "cell_type": "code",
   "execution_count": null,
   "id": "40ed8ca3-c47f-4ee9-9700-4d5e6a76f73e",
   "metadata": {},
   "outputs": [],
   "source": []
  }
 ],
 "metadata": {
  "kernelspec": {
   "display_name": "peaknet",
   "language": "python",
   "name": "peaknet"
  },
  "language_info": {
   "codemirror_mode": {
    "name": "ipython",
    "version": 3
   },
   "file_extension": ".py",
   "mimetype": "text/x-python",
   "name": "python",
   "nbconvert_exporter": "python",
   "pygments_lexer": "ipython3",
   "version": "3.7.12"
  }
 },
 "nbformat": 4,
 "nbformat_minor": 5
}
