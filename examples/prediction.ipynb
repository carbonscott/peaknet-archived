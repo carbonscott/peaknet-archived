{
 "cells": [
  {
   "cell_type": "code",
   "execution_count": 30,
   "id": "ac0d87f0-6b54-4655-98b7-177e3bd8bde6",
   "metadata": {},
   "outputs": [
    {
     "name": "stdout",
     "output_type": "stream",
     "text": [
      "env: SIT_ROOT=/reg/g/psdm/\n",
      "env: SIT_DATA=/cds/group/psdm/data/\n",
      "env: SIT_PSDM_DATA=/cds/data/psdm/\n"
     ]
    }
   ],
   "source": [
    "# Load paths for using psana\n",
    "%env SIT_ROOT=/reg/g/psdm/\n",
    "%env SIT_DATA=/cds/group/psdm/data/\n",
    "%env SIT_PSDM_DATA=/cds/data/psdm/"
   ]
  },
  {
   "cell_type": "code",
   "execution_count": 170,
   "id": "354508ff-767f-4207-a230-38533c1919c5",
   "metadata": {},
   "outputs": [],
   "source": [
    "import os\n",
    "import torch\n",
    "import random\n",
    "import numpy as np\n",
    "import h5py\n",
    "import time\n",
    "\n",
    "from peaknet.datasets.transform import center_crop, coord_img_to_crop\n",
    "from cupyx.scipy import ndimage\n",
    "import cupy as cp\n",
    "\n",
    "seed = 0"
   ]
  },
  {
   "cell_type": "code",
   "execution_count": 37,
   "id": "610454b5-1391-4264-a26d-a01433d54490",
   "metadata": {},
   "outputs": [],
   "source": [
    "import matplotlib.pyplot as plt\n",
    "import matplotlib.colors       as mcolors\n",
    "import matplotlib.patches      as mpatches\n",
    "import matplotlib.transforms   as mtransforms\n",
    "%matplotlib inline"
   ]
  },
  {
   "cell_type": "markdown",
   "id": "959ab76d-91b8-4e1e-b5dc-03f11ff65bfc",
   "metadata": {},
   "source": [
    "## Load psana"
   ]
  },
  {
   "cell_type": "code",
   "execution_count": 35,
   "id": "917b69c5-4b79-466e-b47d-7dac83b5fdd5",
   "metadata": {},
   "outputs": [],
   "source": [
    "exp           = 'cxic0415'\n",
    "run           = 101\n",
    "img_load_mode = 'calib'\n",
    "access_mode   = 'idx'\n",
    "detector_name = 'CxiDs1.0:Cspad.0'\n",
    "photon_energy = 12688.890590380644    # eV\n",
    "encoder_value = -450.0034\n",
    "\n",
    "psana_img = PsanaImg(exp, run, access_mode, detector_name)"
   ]
  },
  {
   "cell_type": "code",
   "execution_count": 38,
   "id": "f88255d7-e56e-4cc6-bd7d-6fa43170115c",
   "metadata": {
    "tags": []
   },
   "outputs": [],
   "source": [
    "timestamp = \"2022_1101_2326_41\"    # Manual"
   ]
  },
  {
   "cell_type": "markdown",
   "id": "81fd43d1-a55c-40c1-a920-fa8f528e5622",
   "metadata": {},
   "source": [
    "## Load Model"
   ]
  },
  {
   "cell_type": "code",
   "execution_count": 39,
   "id": "9c089b28-7f12-4f5c-9bac-488d588daf90",
   "metadata": {},
   "outputs": [],
   "source": [
    "from peaknet.methods.unet import UNet\n",
    "from peaknet.model        import ConfigPeakFinderModel, PeakFinderModel"
   ]
  },
  {
   "cell_type": "code",
   "execution_count": 41,
   "id": "318098c2-9867-463d-879c-546db97cf6b1",
   "metadata": {},
   "outputs": [],
   "source": [
    "base_channels = 8\n",
    "pos_weight    = 1.0\n",
    "focal_alpha   = 0.8\n",
    "focal_gamma   = 2.0\n",
    "method = UNet( in_channels = 1, out_channels = 1, base_channels = base_channels )\n",
    "config_peakfinder = ConfigPeakFinderModel( method = method, \n",
    "                                           pos_weight = pos_weight, \n",
    "                                           focal_alpha = focal_alpha,\n",
    "                                           focal_gamma = focal_gamma)\n",
    "model = PeakFinderModel(config_peakfinder)\n",
    "model.init_params()"
   ]
  },
  {
   "cell_type": "code",
   "execution_count": 42,
   "id": "a9a5fc96-11bd-4fb8-9385-eb71c3862c4f",
   "metadata": {},
   "outputs": [],
   "source": [
    "model.init_params(from_timestamp = timestamp)   # Run this will load a trained model"
   ]
  },
  {
   "cell_type": "code",
   "execution_count": 43,
   "id": "eef12163-822e-4771-bea1-bf65b6bd2a68",
   "metadata": {},
   "outputs": [],
   "source": [
    "# Load model to gpus if available...\n",
    "device = torch.cuda.current_device() if torch.cuda.is_available() else 'cpu'\n",
    "model  = torch.nn.DataParallel(model.method).to(device)"
   ]
  },
  {
   "cell_type": "markdown",
   "id": "7614ea17-234c-45fc-9d02-da57e784d048",
   "metadata": {
    "tags": []
   },
   "source": [
    "## Define hooks"
   ]
  },
  {
   "cell_type": "code",
   "execution_count": 44,
   "id": "ffd52687-8c67-44ed-b2c0-90cd2f1368fd",
   "metadata": {},
   "outputs": [],
   "source": [
    "# Define hooks...\n",
    "activation_dict = {}\n",
    "preactivation_dict = {}\n",
    "def get_activation(name, tag = ''):\n",
    "    if tag not in preactivation_dict: preactivation_dict[tag] = {}\n",
    "    if tag not in activation_dict: activation_dict[tag] = {}\n",
    "    def hook(model, input, output):\n",
    "        preactivation_dict[tag][name] = input\n",
    "        activation_dict[tag][name] = output\n",
    "    return hook\n",
    "\n",
    "\n",
    "# Define what layer you want to check...\n",
    "for name, layer in model.named_modules():\n",
    "    if isinstance(layer, torch.nn.ReLU):\n",
    "        layer.register_forward_hook(get_activation(name, 'relu'))\n",
    "\n",
    "    if \"final_conv\" in name:\n",
    "        layer.register_forward_hook(get_activation(name, 'final_conv'))"
   ]
  },
  {
   "cell_type": "markdown",
   "id": "e817962c-c58e-4e11-a496-a1644861cb7d",
   "metadata": {
    "tags": []
   },
   "source": [
    "## Visual check"
   ]
  },
  {
   "cell_type": "code",
   "execution_count": 75,
   "id": "37b4cb38-68bc-462c-b1fd-77effcd60d68",
   "metadata": {},
   "outputs": [],
   "source": [
    "event = 0\n",
    "multipanel_mask       = psana_img.create_bad_pixel_mask()\n",
    "multipanel_img        = psana_img.get(event, None, 'calib')\n",
    "multipanel_img_masked = multipanel_mask * multipanel_img"
   ]
  },
  {
   "cell_type": "code",
   "execution_count": 76,
   "id": "c9629209-b836-4bf9-83eb-70a3f899af36",
   "metadata": {},
   "outputs": [
    {
     "data": {
      "text/plain": [
       "(185, 388)"
      ]
     },
     "execution_count": 76,
     "metadata": {},
     "output_type": "execute_result"
    }
   ],
   "source": [
    "multipanel_img_masked[event].shape"
   ]
  },
  {
   "cell_type": "code",
   "execution_count": 77,
   "id": "f43a1e21-fb17-4d63-85be-24ab9f68dac8",
   "metadata": {},
   "outputs": [],
   "source": [
    "event = 0\n",
    "test_img = torch.tensor(multipanel_img_masked[event]).type(dtype=torch.float)[None,None,].to(device)"
   ]
  },
  {
   "cell_type": "code",
   "execution_count": 83,
   "id": "c05775db-6c96-4b66-885a-ddea16497223",
   "metadata": {},
   "outputs": [],
   "source": [
    "test_img = (test_img - test_img.mean()) / test_img.std()"
   ]
  },
  {
   "cell_type": "code",
   "execution_count": 182,
   "id": "3878aafa-e450-43c3-8589-3c9a85a12d46",
   "metadata": {},
   "outputs": [],
   "source": [
    "model.eval()\n",
    "with torch.no_grad():\n",
    "    fmap = model.forward(test_img)"
   ]
  },
  {
   "cell_type": "code",
   "execution_count": 183,
   "id": "b58bd59b-8e55-4c7c-aea7-4ebd6a3cc913",
   "metadata": {},
   "outputs": [
    {
     "data": {
      "text/plain": [
       "torch.Size([1, 1, 176, 384])"
      ]
     },
     "execution_count": 183,
     "metadata": {},
     "output_type": "execute_result"
    }
   ],
   "source": [
    "fmap.shape"
   ]
  },
  {
   "cell_type": "code",
   "execution_count": 184,
   "id": "f38953f6-5dfc-4a21-9602-1b45386a1d56",
   "metadata": {},
   "outputs": [],
   "source": [
    "mask_predicted = fmap.sigmoid()"
   ]
  },
  {
   "cell_type": "code",
   "execution_count": 185,
   "id": "b2930bed-9ca5-45ce-a5d9-099a5633e033",
   "metadata": {},
   "outputs": [
    {
     "data": {
      "image/png": "[encoded data removed]",
      "text/plain": [
       "<Figure size 1200x500 with 1 Axes>"
      ]
     },
     "metadata": {},
     "output_type": "display_data"
    }
   ],
   "source": [
    "plt.figure(figsize=(12,5))\n",
    "data = mask_predicted[0, 0].cpu().detach().numpy()\n",
    "plt.hist(data.reshape(-1), bins = 50);\n",
    "plt.yscale('log')\n",
    "# plt.xlim(-2e2,3e2);"
   ]
  },
  {
   "cell_type": "code",
   "execution_count": 135,
   "id": "9fa5e51e-7a2a-42e8-b14c-90346c883956",
   "metadata": {},
   "outputs": [
    {
     "data": {
      "text/plain": [
       "(32, 185, 388)"
      ]
     },
     "execution_count": 135,
     "metadata": {},
     "output_type": "execute_result"
    }
   ],
   "source": [
    "multipanel_img_masked.shape"
   ]
  },
  {
   "cell_type": "code",
   "execution_count": null,
   "id": "4ebcbbcd-6ba5-419a-b8ef-8b85b1d82233",
   "metadata": {},
   "outputs": [],
   "source": [
    "event = 46\n",
    "multipanel_mask       = psana_img.create_bad_pixel_mask()\n",
    "multipanel_img        = psana_img.get(event, None, 'calib')\n",
    "multipanel_img_masked = multipanel_mask * multipanel_img\n",
    "\n",
    "for idx_panel in range(len(multipanel_img_masked[:10])):\n",
    "    img = torch.tensor(multipanel_img_masked[idx_panel]).type(dtype=torch.float)[None,None,].to(device)\n",
    "    img = (img - img.mean()) / img.std()\n",
    "\n",
    "    model.eval()\n",
    "    with torch.no_grad():\n",
    "        fmap = model.forward(img)\n",
    "    mask_predicted = fmap.sigmoid()\n",
    "    \n",
    "    threshold_prob = 1 - 1e-4\n",
    "    mask_predicted[  mask_predicted < threshold_prob ] = 0\n",
    "    mask_predicted[~(mask_predicted < threshold_prob)] = 1\n",
    "    \n",
    "    # Crop the original image...\n",
    "    size_y, size_x = mask_predicted.shape[-2:]\n",
    "    img_crop, offset_tuple = center_crop(img, size_y, size_x, return_offset_ok = True)\n",
    "\n",
    "    img_crop       = img_crop[0, 0].cpu().detach().numpy()\n",
    "    mask_predicted = mask_predicted[0, 0].cpu().detach().numpy()\n",
    "    \n",
    "    \n",
    "    # Locate peaks with coordinates...\n",
    "    structure = np.ones((3, 3), dtype=bool)\n",
    "    peak_predicted, num_peak_predicted = ndimage.label(cp.asarray(mask_predicted), structure)\n",
    "    peak_pos_predicted_list = ndimage.center_of_mass(cp.asarray(mask_predicted), peak_predicted, cp.asarray(range(1, num_peak_predicted+1)))\n",
    "\n",
    "    # [[[ Visual ]]]\n",
    "    \n",
    "    # Set up the visual\n",
    "    ncols = 2\n",
    "    nrows = 1\n",
    "    fig   = plt.figure(figsize = (16,12))\n",
    "    gspec = fig.add_gridspec( nrows, ncols,\n",
    "                              width_ratios  = [1, 1/20],\n",
    "                              height_ratios = [1,], \n",
    "                            )\n",
    "    ax_list = [ fig.add_subplot(gspec[0, 0], aspect = 1),  \n",
    "                fig.add_subplot(gspec[0, 1], aspect = 1.5), ]\n",
    "\n",
    "    # Plot image\n",
    "    data = img_crop\n",
    "    vmin = data.mean()\n",
    "    vmax = vmin + 6 * test_img.std()\n",
    "    im = ax_list[0].imshow(data, vmin = vmin, vmax = vmax)\n",
    "    im.set_clim(vmin, vmax)\n",
    "    plt.colorbar(im, cax = ax_list[1], orientation=\"vertical\", pad = 0.05)\n",
    "\n",
    "    # Plot mask overlay\n",
    "    data = mask_predicted\n",
    "    vmin = 0\n",
    "    vmax = 1\n",
    "    im2 = ax_list[0].imshow(data, vmin = vmin, vmax = vmax, alpha = 1.)\n",
    "    im2.set_clim(vmin, vmax)\n",
    "    cmap1 = mcolors.ListedColormap(['none', 'red'])\n",
    "    im2.set_cmap(cmap1)\n",
    "    \n",
    "    # Place a box on a peak\n",
    "    offset = 3\n",
    "    b_offset = 2\n",
    "    for y, x in peak_pos_predicted_list:\n",
    "        if np.isnan(y) or np.isnan(x): continue\n",
    "\n",
    "        x_bottom_left = x.get() - offset\n",
    "        y_bottom_left = y.get() - offset\n",
    "\n",
    "        rec_obj = mpatches.Rectangle((x_bottom_left, y_bottom_left), \n",
    "                                     2 * offset, 2 * offset, \n",
    "                                     linewidth = 1.0, \n",
    "                                     edgecolor = 'yellow', \n",
    "                                     facecolor='none')\n",
    "        ax_list[0].add_patch(rec_obj)\n",
    "\n",
    "        y_bmin, x_bmin = 0, 0\n",
    "        y_bmax, x_bmax = size_y, size_x\n",
    "        ax_list[0].set_xlim([x_bmin - b_offset, x_bmax + b_offset])\n",
    "        ax_list[0].set_ylim([y_bmin - b_offset, y_bmax + b_offset])"
   ]
  },
  {
   "cell_type": "code",
   "execution_count": null,
   "id": "ca15d035-087a-4fbe-bc89-d8140eaa87a2",
   "metadata": {},
   "outputs": [],
   "source": []
  }
 ],
 "metadata": {
  "kernelspec": {
   "display_name": "peaknet",
   "language": "python",
   "name": "peaknet"
  },
  "language_info": {
   "codemirror_mode": {
    "name": "ipython",
    "version": 3
   },
   "file_extension": ".py",
   "mimetype": "text/x-python",
   "name": "python",
   "nbconvert_exporter": "python",
   "pygments_lexer": "ipython3",
   "version": "3.7.12"
  }
 },
 "nbformat": 4,
 "nbformat_minor": 5
}
